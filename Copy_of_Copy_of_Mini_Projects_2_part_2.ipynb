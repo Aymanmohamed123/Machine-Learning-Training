{
  "nbformat": 4,
  "nbformat_minor": 0,
  "metadata": {
    "colab": {
      "name": "Copy of Copy of Mini_Projects_2/ part 2.ipynb",
      "provenance": [],
      "toc_visible": true,
      "include_colab_link": true
    },
    "kernelspec": {
      "name": "python3",
      "display_name": "Python 3"
    }
  },
  "cells": [
    {
      "cell_type": "markdown",
      "metadata": {
        "id": "view-in-github",
        "colab_type": "text"
      },
      "source": [
        "<a href=\"https://colab.research.google.com/github/Aymanmohamed123/Machine-Learning-Training/blob/main/Copy_of_Copy_of_Mini_Projects_2_part_2.ipynb\" target=\"_parent\"><img src=\"https://colab.research.google.com/assets/colab-badge.svg\" alt=\"Open In Colab\"/></a>"
      ]
    },
    {
      "cell_type": "markdown",
      "metadata": {
        "id": "c2sSEq3uSurn"
      },
      "source": [
        "# Files and Exceptions"
      ]
    },
    {
      "cell_type": "markdown",
      "metadata": {
        "id": "qw2XyRs-TWIF"
      },
      "source": [
        "**8. Sum of Numbers** <br>\n",
        "Assume that a file containing a series of integers is named numbers.txt and exists on the computer’s disk. Write a program that reads all of the numbers stored in the file and calculates their total.\n"
      ]
    },
    {
      "cell_type": "code",
      "metadata": {
        "id": "92EStR9KSu8N",
        "colab": {
          "base_uri": "https://localhost:8080/"
        },
        "outputId": "ddcfd859-a6c7-4866-cf1a-f7cfca5ea967"
      },
      "source": [
        "def main ():\n",
        "  outfile = open('numbers.txt','w')\n",
        "  num1 = int(input(\"Enter number: \"))\n",
        "  num2 = int(input(\"Enter another number: \"))\n",
        "  num3 = int(input(\"Enter another number: \"))\n",
        "  num4 = int(input(\"Enter another number: \"))\n",
        "\n",
        "  outfile.write(str(num1)+'\\n')\n",
        "  outfile.write(str(num2)+'\\n')\n",
        "  outfile.write(str(num3)+'\\n')\n",
        "  outfile.write(str(num4)+'\\n')\n",
        "\n",
        "  outfile.close()\n",
        "  print(\"data written to numbers.txt is :\")\n",
        "  print(num1+num2+num3+num4)\n",
        "main()"
      ],
      "execution_count": null,
      "outputs": [
        {
          "output_type": "stream",
          "text": [
            "Enter number: 2\n",
            "Enter another number: 3\n",
            "Enter another number: 4\n",
            "Enter another number: 1\n",
            "data written to numbers.txt is :\n",
            "10\n"
          ],
          "name": "stdout"
        }
      ]
    },
    {
      "cell_type": "markdown",
      "metadata": {
        "id": "gW0mWcdDVgK4"
      },
      "source": [
        "**9. Average of Numbers** <br>\n",
        "Assume that a file containing a series of integers is named numbers.txt and exists on the computer’s disk. Write a program that calculates the average of all the numbers stored in\n",
        "the file"
      ]
    },
    {
      "cell_type": "code",
      "metadata": {
        "id": "3-DZx-vnSvCe",
        "colab": {
          "base_uri": "https://localhost:8080/"
        },
        "outputId": "b56f691a-33ce-4aad-b04e-49f27fdd3724"
      },
      "source": [
        "def main():\n",
        "  infile = open('numbers.txt','r')\n",
        "  num1= int(infile.readline())\n",
        "  num2= int(infile.readline())\n",
        "  num3= int(infile.readline())\n",
        "  num4= int(infile.readline())\n",
        "\n",
        "  infile.close()\n",
        "  sum = num1 + num2 + num3 + num4\n",
        "  print(\"the numbers are \",num1,num2,num3,num4)\n",
        "  print(\"the total sum: \",sum)\n",
        "main()"
      ],
      "execution_count": null,
      "outputs": [
        {
          "output_type": "stream",
          "text": [
            "the numbers are  2 3 4 1\n",
            "the total sum:  10\n"
          ],
          "name": "stdout"
        }
      ]
    },
    {
      "cell_type": "markdown",
      "metadata": {
        "id": "vjchCYETVwPx"
      },
      "source": [
        "**10. Random Number File Writer**<br>\n",
        "Write a program that writes a series of random numbers to a file. Each random number should be in the range of 1 \n",
        "through 500. The application should let the user specify how\n",
        "many random numbers the file will hold.\n"
      ]
    },
    {
      "cell_type": "code",
      "metadata": {
        "id": "DCyba_BZVxLF",
        "colab": {
          "base_uri": "https://localhost:8080/"
        },
        "outputId": "7ecfa2c2-ccb4-4489-cc4f-6b97d597ff29"
      },
      "source": [
        "import random\n",
        "def main():\n",
        "    rand = open('rand_numbers.txt', 'w')\n",
        "    number = int(input('Input how many random numbers should be written to the file: '))\n",
        "    print('Your list of random numbers are: ')\n",
        "\n",
        "    for count in range (number):\n",
        "        number = random.randint(1,500)\n",
        "        print(number)\n",
        "        rand.write(str(number)+ '\\n')\n",
        "\n",
        "    rand.close()\n",
        "    print('Your random numbers have been written to the file named rand_numbers.txt')\n",
        "main()"
      ],
      "execution_count": null,
      "outputs": [
        {
          "output_type": "stream",
          "text": [
            "Input how many random numbers should be written to the file: 3\n",
            "Your list of random numbers are: \n",
            "28\n",
            "449\n",
            "3\n",
            "Your random numbers have been written to the file named rand_numbers.txt\n"
          ],
          "name": "stdout"
        }
      ]
    },
    {
      "cell_type": "markdown",
      "metadata": {
        "id": "p75ZKqbXWMdY"
      },
      "source": [
        "**11.  Exception Handing** <br>\n",
        "Modify the program that you wrote for Exercise 9 so it handles the following exceptions: <br>\n",
        "* It should handle any IOError exceptions that are raised when the file is opened and data\n",
        "is read from it. <br>\n",
        "* It should handle any ValueError exceptions that are raised when the items that are read from the file are converted to a number."
      ]
    },
    {
      "cell_type": "code",
      "metadata": {
        "id": "22SOHQbrVxRE",
        "colab": {
          "base_uri": "https://localhost:8080/"
        },
        "outputId": "9bc71e01-3b52-43c8-8f71-4d863166b398"
      },
      "source": [
        "def main():\n",
        "  try:\n",
        "    infile = open('number.txt','r')\n",
        "    num1= int(infile.readline())\n",
        "    num2= int(infile.readline())\n",
        "    num3= int(infile.readline())\n",
        "    num4= int(infile.readline())\n",
        "\n",
        "    infile.close()\n",
        "    sum = num1 + num2 + num3 + num4\n",
        "    print(\"the numbers are \",num1,num2,num3,num4)\n",
        "    print(\"the total sum: \",sum)\n",
        "  except IOError:\n",
        "    print(\"Error:file not found in the memory please check again.\")\n",
        "  except ValueError:\n",
        "    print(\"Error:numbers in the file must be written as a valid numbers.\")\n",
        "\n",
        "main()"
      ],
      "execution_count": null,
      "outputs": [
        {
          "output_type": "stream",
          "text": [
            "Error:file not found in the memory please check again.\n"
          ],
          "name": "stdout"
        }
      ]
    },
    {
      "cell_type": "code",
      "metadata": {
        "colab": {
          "base_uri": "https://localhost:8080/"
        },
        "id": "3OehrGLBE5Pr",
        "outputId": "0dd0ff8b-54da-4517-dbaa-c0479ea6845f"
      },
      "source": [
        "def main():\n",
        "  try:\n",
        "    infile = open('numbers.txt','r')\n",
        "    num1= int(infile.readline())\n",
        "    num2= int(infile.readline())\n",
        "    num3= int(infile.readline())\n",
        "    num4= int(infile.readline())\n",
        "\n",
        "    infile.close()\n",
        "    sum = num1 + num2 + num3 + num4\n",
        "    print(\"the numbers are \",num1,num2,num3,num4)\n",
        "    print(\"the total sum: \",sum)\n",
        "  except IOError:\n",
        "    print(\"Error:file not found in the memory please check again.\")\n",
        "  except ValueError:\n",
        "    print(\"Error:numbers in the file must be written as a valid numbers.\")\n",
        "\n",
        "main()"
      ],
      "execution_count": null,
      "outputs": [
        {
          "output_type": "stream",
          "text": [
            "the numbers are  2 3 4 1\n",
            "the total sum:  10\n"
          ],
          "name": "stdout"
        }
      ]
    }
  ]
}